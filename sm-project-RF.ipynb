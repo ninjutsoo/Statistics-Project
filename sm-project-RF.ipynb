{
 "metadata": {
  "language_info": {
   "codemirror_mode": {
    "name": "ipython",
    "version": 3
   },
   "file_extension": ".py",
   "mimetype": "text/x-python",
   "name": "python",
   "nbconvert_exporter": "python",
   "pygments_lexer": "ipython3",
   "version": "3.7.0"
  },
  "orig_nbformat": 2,
  "kernelspec": {
   "name": "python3",
   "display_name": "Python 3.7.0 64-bit",
   "metadata": {
    "interpreter": {
     "hash": "056c635ef65f8968728a9be993ac12f5d388889be8fe558f90d21d0cbbe261f6"
    }
   }
  }
 },
 "nbformat": 4,
 "nbformat_minor": 2,
 "cells": [
  {
   "source": [
    "### Mohammad amin Roshani - 610396104 - Statical Methods Project"
   ],
   "cell_type": "markdown",
   "metadata": {}
  },
  {
   "cell_type": "code",
   "execution_count": 343,
   "metadata": {},
   "outputs": [],
   "source": [
    "import numpy as np\n",
    "import pandas as pd\n",
    "import matplotlib.pyplot as plt\n",
    "from sklearn.model_selection import train_test_split\n",
    "from sklearn.ensemble import RandomForestRegressor\n",
    "from sklearn.metrics import r2_score,mean_squared_error\n",
    "from scipy.stats import wilcoxon\n",
    "import seaborn as sns\n",
    "train_df = pd.read_csv('train.csv', sep=',')\n",
    "test_df = pd.read_csv('test1.csv', sep=',')\n",
    "test_df = test_df.iloc[: , 1:]"
   ]
  },
  {
   "source": [],
   "cell_type": "markdown",
   "metadata": {}
  },
  {
   "source": [
    "## Preprocessing\n",
    "#### we have our independent parameters (MSSubclass, MSZoning, ...) in x_train for training and x_test for testing.\n",
    "#### we have our dependent parameter (SalePrice) in y_train for train and y_test for test."
   ],
   "cell_type": "markdown",
   "metadata": {}
  },
  {
   "cell_type": "code",
   "execution_count": 380,
   "metadata": {},
   "outputs": [],
   "source": [
    "x_train = train_df.drop('SalePrice',axis=1)\n",
    "x_test = test_df.drop('SalePrice',axis=1)\n",
    "y_train = train_df['SalePrice']\n",
    "y_test = test_df['SalePrice']"
   ]
  },
  {
   "source": [
    "#### here we deal with categorical parameters like \"MSZoning\" and \"SaleCondition\" and turn them to numerical.\n",
    "### before\n"
   ],
   "cell_type": "markdown",
   "metadata": {}
  },
  {
   "cell_type": "code",
   "execution_count": 381,
   "metadata": {},
   "outputs": [
    {
     "output_type": "execute_result",
     "data": {
      "text/plain": [
       "   Id  MSSubClass MSZoning  LotArea SaleCondition\n",
       "0   1          60       RL     8450        Normal\n",
       "1   2          20       RL     9600        Normal\n",
       "2   3          60       RL    11250        Normal\n",
       "3   4          70       RL     9550       Abnorml\n",
       "4   5          60       RL    14260        Normal"
      ],
      "text/html": "<div>\n<style scoped>\n    .dataframe tbody tr th:only-of-type {\n        vertical-align: middle;\n    }\n\n    .dataframe tbody tr th {\n        vertical-align: top;\n    }\n\n    .dataframe thead th {\n        text-align: right;\n    }\n</style>\n<table border=\"1\" class=\"dataframe\">\n  <thead>\n    <tr style=\"text-align: right;\">\n      <th></th>\n      <th>Id</th>\n      <th>MSSubClass</th>\n      <th>MSZoning</th>\n      <th>LotArea</th>\n      <th>SaleCondition</th>\n    </tr>\n  </thead>\n  <tbody>\n    <tr>\n      <th>0</th>\n      <td>1</td>\n      <td>60</td>\n      <td>RL</td>\n      <td>8450</td>\n      <td>Normal</td>\n    </tr>\n    <tr>\n      <th>1</th>\n      <td>2</td>\n      <td>20</td>\n      <td>RL</td>\n      <td>9600</td>\n      <td>Normal</td>\n    </tr>\n    <tr>\n      <th>2</th>\n      <td>3</td>\n      <td>60</td>\n      <td>RL</td>\n      <td>11250</td>\n      <td>Normal</td>\n    </tr>\n    <tr>\n      <th>3</th>\n      <td>4</td>\n      <td>70</td>\n      <td>RL</td>\n      <td>9550</td>\n      <td>Abnorml</td>\n    </tr>\n    <tr>\n      <th>4</th>\n      <td>5</td>\n      <td>60</td>\n      <td>RL</td>\n      <td>14260</td>\n      <td>Normal</td>\n    </tr>\n  </tbody>\n</table>\n</div>"
     },
     "metadata": {},
     "execution_count": 381
    }
   ],
   "source": [
    "x_train.head()"
   ]
  },
  {
   "cell_type": "code",
   "execution_count": 382,
   "metadata": {},
   "outputs": [],
   "source": [
    "x_train = pd.get_dummies(x_train, drop_first = True)\n",
    "x_train = x_train.drop('Id', axis=1)\n",
    "x_test = pd.get_dummies(x_test, drop_first = True)\n",
    "x_test = x_test.drop('Id', axis=1)"
   ]
  },
  {
   "source": [
    "### after"
   ],
   "cell_type": "markdown",
   "metadata": {}
  },
  {
   "cell_type": "code",
   "execution_count": 383,
   "metadata": {},
   "outputs": [
    {
     "output_type": "execute_result",
     "data": {
      "text/plain": [
       "   MSSubClass  LotArea  MSZoning_FV  MSZoning_RH  MSZoning_RL  MSZoning_RM  \\\n",
       "0          60     8450            0            0            1            0   \n",
       "1          20     9600            0            0            1            0   \n",
       "2          60    11250            0            0            1            0   \n",
       "3          70     9550            0            0            1            0   \n",
       "4          60    14260            0            0            1            0   \n",
       "\n",
       "   SaleCondition_AdjLand  SaleCondition_Alloca  SaleCondition_Family  \\\n",
       "0                      0                     0                     0   \n",
       "1                      0                     0                     0   \n",
       "2                      0                     0                     0   \n",
       "3                      0                     0                     0   \n",
       "4                      0                     0                     0   \n",
       "\n",
       "   SaleCondition_Normal  SaleCondition_Partial  \n",
       "0                     1                      0  \n",
       "1                     1                      0  \n",
       "2                     1                      0  \n",
       "3                     0                      0  \n",
       "4                     1                      0  "
      ],
      "text/html": "<div>\n<style scoped>\n    .dataframe tbody tr th:only-of-type {\n        vertical-align: middle;\n    }\n\n    .dataframe tbody tr th {\n        vertical-align: top;\n    }\n\n    .dataframe thead th {\n        text-align: right;\n    }\n</style>\n<table border=\"1\" class=\"dataframe\">\n  <thead>\n    <tr style=\"text-align: right;\">\n      <th></th>\n      <th>MSSubClass</th>\n      <th>LotArea</th>\n      <th>MSZoning_FV</th>\n      <th>MSZoning_RH</th>\n      <th>MSZoning_RL</th>\n      <th>MSZoning_RM</th>\n      <th>SaleCondition_AdjLand</th>\n      <th>SaleCondition_Alloca</th>\n      <th>SaleCondition_Family</th>\n      <th>SaleCondition_Normal</th>\n      <th>SaleCondition_Partial</th>\n    </tr>\n  </thead>\n  <tbody>\n    <tr>\n      <th>0</th>\n      <td>60</td>\n      <td>8450</td>\n      <td>0</td>\n      <td>0</td>\n      <td>1</td>\n      <td>0</td>\n      <td>0</td>\n      <td>0</td>\n      <td>0</td>\n      <td>1</td>\n      <td>0</td>\n    </tr>\n    <tr>\n      <th>1</th>\n      <td>20</td>\n      <td>9600</td>\n      <td>0</td>\n      <td>0</td>\n      <td>1</td>\n      <td>0</td>\n      <td>0</td>\n      <td>0</td>\n      <td>0</td>\n      <td>1</td>\n      <td>0</td>\n    </tr>\n    <tr>\n      <th>2</th>\n      <td>60</td>\n      <td>11250</td>\n      <td>0</td>\n      <td>0</td>\n      <td>1</td>\n      <td>0</td>\n      <td>0</td>\n      <td>0</td>\n      <td>0</td>\n      <td>1</td>\n      <td>0</td>\n    </tr>\n    <tr>\n      <th>3</th>\n      <td>70</td>\n      <td>9550</td>\n      <td>0</td>\n      <td>0</td>\n      <td>1</td>\n      <td>0</td>\n      <td>0</td>\n      <td>0</td>\n      <td>0</td>\n      <td>0</td>\n      <td>0</td>\n    </tr>\n    <tr>\n      <th>4</th>\n      <td>60</td>\n      <td>14260</td>\n      <td>0</td>\n      <td>0</td>\n      <td>1</td>\n      <td>0</td>\n      <td>0</td>\n      <td>0</td>\n      <td>0</td>\n      <td>1</td>\n      <td>0</td>\n    </tr>\n  </tbody>\n</table>\n</div>"
     },
     "metadata": {},
     "execution_count": 383
    }
   ],
   "source": [
    "x_train.head()"
   ]
  },
  {
   "source": [],
   "cell_type": "markdown",
   "metadata": {}
  },
  {
   "source": [
    "## Describing data"
   ],
   "cell_type": "markdown",
   "metadata": {}
  },
  {
   "cell_type": "code",
   "execution_count": 384,
   "metadata": {},
   "outputs": [],
   "source": [
    "des_train = pd.concat([x_train, y_train], axis=1)\n",
    "des_test = pd.concat([x_test, y_test], axis=1)"
   ]
  },
  {
   "source": [
    "### describing test data"
   ],
   "cell_type": "markdown",
   "metadata": {}
  },
  {
   "cell_type": "code",
   "execution_count": 385,
   "metadata": {},
   "outputs": [
    {
     "output_type": "execute_result",
     "data": {
      "text/plain": [
       "       MSSubClass        LotArea  MSZoning_FV  MSZoning_RH  MSZoning_RL  \\\n",
       "count  191.000000     191.000000   191.000000   191.000000   191.000000   \n",
       "mean    60.445026   11090.502618     0.031414     0.026178     0.790576   \n",
       "std     44.758838   14298.710888     0.174891     0.160084     0.407967   \n",
       "min     20.000000    1300.000000     0.000000     0.000000     0.000000   \n",
       "25%     20.000000    7200.000000     0.000000     0.000000     1.000000   \n",
       "50%     60.000000    9600.000000     0.000000     0.000000     1.000000   \n",
       "75%     80.000000   11520.500000     0.000000     0.000000     1.000000   \n",
       "max    190.000000  159000.000000     1.000000     1.000000     1.000000   \n",
       "\n",
       "       MSZoning_RM  SaleCondition_AdjLand  SaleCondition_Alloca  \\\n",
       "count   191.000000             191.000000            191.000000   \n",
       "mean      0.146597               0.005236              0.005236   \n",
       "std       0.354633               0.072357              0.072357   \n",
       "min       0.000000               0.000000              0.000000   \n",
       "25%       0.000000               0.000000              0.000000   \n",
       "50%       0.000000               0.000000              0.000000   \n",
       "75%       0.000000               0.000000              0.000000   \n",
       "max       1.000000               1.000000              1.000000   \n",
       "\n",
       "       SaleCondition_Family  SaleCondition_Normal  SaleCondition_Partial  \\\n",
       "count            191.000000            191.000000             191.000000   \n",
       "mean               0.015707              0.785340               0.099476   \n",
       "std                0.124665              0.411665               0.300087   \n",
       "min                0.000000              0.000000               0.000000   \n",
       "25%                0.000000              1.000000               0.000000   \n",
       "50%                0.000000              1.000000               0.000000   \n",
       "75%                0.000000              1.000000               0.000000   \n",
       "max                1.000000              1.000000               1.000000   \n",
       "\n",
       "           SalePrice  \n",
       "count     191.000000  \n",
       "mean   182581.209424  \n",
       "std     79571.133711  \n",
       "min     64500.000000  \n",
       "25%    131750.000000  \n",
       "50%    162500.000000  \n",
       "75%    210900.000000  \n",
       "max    555000.000000  "
      ],
      "text/html": "<div>\n<style scoped>\n    .dataframe tbody tr th:only-of-type {\n        vertical-align: middle;\n    }\n\n    .dataframe tbody tr th {\n        vertical-align: top;\n    }\n\n    .dataframe thead th {\n        text-align: right;\n    }\n</style>\n<table border=\"1\" class=\"dataframe\">\n  <thead>\n    <tr style=\"text-align: right;\">\n      <th></th>\n      <th>MSSubClass</th>\n      <th>LotArea</th>\n      <th>MSZoning_FV</th>\n      <th>MSZoning_RH</th>\n      <th>MSZoning_RL</th>\n      <th>MSZoning_RM</th>\n      <th>SaleCondition_AdjLand</th>\n      <th>SaleCondition_Alloca</th>\n      <th>SaleCondition_Family</th>\n      <th>SaleCondition_Normal</th>\n      <th>SaleCondition_Partial</th>\n      <th>SalePrice</th>\n    </tr>\n  </thead>\n  <tbody>\n    <tr>\n      <th>count</th>\n      <td>191.000000</td>\n      <td>191.000000</td>\n      <td>191.000000</td>\n      <td>191.000000</td>\n      <td>191.000000</td>\n      <td>191.000000</td>\n      <td>191.000000</td>\n      <td>191.000000</td>\n      <td>191.000000</td>\n      <td>191.000000</td>\n      <td>191.000000</td>\n      <td>191.000000</td>\n    </tr>\n    <tr>\n      <th>mean</th>\n      <td>60.445026</td>\n      <td>11090.502618</td>\n      <td>0.031414</td>\n      <td>0.026178</td>\n      <td>0.790576</td>\n      <td>0.146597</td>\n      <td>0.005236</td>\n      <td>0.005236</td>\n      <td>0.015707</td>\n      <td>0.785340</td>\n      <td>0.099476</td>\n      <td>182581.209424</td>\n    </tr>\n    <tr>\n      <th>std</th>\n      <td>44.758838</td>\n      <td>14298.710888</td>\n      <td>0.174891</td>\n      <td>0.160084</td>\n      <td>0.407967</td>\n      <td>0.354633</td>\n      <td>0.072357</td>\n      <td>0.072357</td>\n      <td>0.124665</td>\n      <td>0.411665</td>\n      <td>0.300087</td>\n      <td>79571.133711</td>\n    </tr>\n    <tr>\n      <th>min</th>\n      <td>20.000000</td>\n      <td>1300.000000</td>\n      <td>0.000000</td>\n      <td>0.000000</td>\n      <td>0.000000</td>\n      <td>0.000000</td>\n      <td>0.000000</td>\n      <td>0.000000</td>\n      <td>0.000000</td>\n      <td>0.000000</td>\n      <td>0.000000</td>\n      <td>64500.000000</td>\n    </tr>\n    <tr>\n      <th>25%</th>\n      <td>20.000000</td>\n      <td>7200.000000</td>\n      <td>0.000000</td>\n      <td>0.000000</td>\n      <td>1.000000</td>\n      <td>0.000000</td>\n      <td>0.000000</td>\n      <td>0.000000</td>\n      <td>0.000000</td>\n      <td>1.000000</td>\n      <td>0.000000</td>\n      <td>131750.000000</td>\n    </tr>\n    <tr>\n      <th>50%</th>\n      <td>60.000000</td>\n      <td>9600.000000</td>\n      <td>0.000000</td>\n      <td>0.000000</td>\n      <td>1.000000</td>\n      <td>0.000000</td>\n      <td>0.000000</td>\n      <td>0.000000</td>\n      <td>0.000000</td>\n      <td>1.000000</td>\n      <td>0.000000</td>\n      <td>162500.000000</td>\n    </tr>\n    <tr>\n      <th>75%</th>\n      <td>80.000000</td>\n      <td>11520.500000</td>\n      <td>0.000000</td>\n      <td>0.000000</td>\n      <td>1.000000</td>\n      <td>0.000000</td>\n      <td>0.000000</td>\n      <td>0.000000</td>\n      <td>0.000000</td>\n      <td>1.000000</td>\n      <td>0.000000</td>\n      <td>210900.000000</td>\n    </tr>\n    <tr>\n      <th>max</th>\n      <td>190.000000</td>\n      <td>159000.000000</td>\n      <td>1.000000</td>\n      <td>1.000000</td>\n      <td>1.000000</td>\n      <td>1.000000</td>\n      <td>1.000000</td>\n      <td>1.000000</td>\n      <td>1.000000</td>\n      <td>1.000000</td>\n      <td>1.000000</td>\n      <td>555000.000000</td>\n    </tr>\n  </tbody>\n</table>\n</div>"
     },
     "metadata": {},
     "execution_count": 385
    }
   ],
   "source": [
    "des_test.describe()"
   ]
  },
  {
   "source": [
    "### describing train data"
   ],
   "cell_type": "markdown",
   "metadata": {}
  },
  {
   "cell_type": "code",
   "execution_count": 386,
   "metadata": {},
   "outputs": [
    {
     "output_type": "execute_result",
     "data": {
      "text/plain": [
       "        MSSubClass        LotArea  MSZoning_FV  MSZoning_RH  MSZoning_RL  \\\n",
       "count  1460.000000    1460.000000  1460.000000  1460.000000  1460.000000   \n",
       "mean     56.897260   10516.828082     0.044521     0.010959     0.788356   \n",
       "std      42.300571    9981.264932     0.206319     0.104145     0.408614   \n",
       "min      20.000000    1300.000000     0.000000     0.000000     0.000000   \n",
       "25%      20.000000    7553.500000     0.000000     0.000000     1.000000   \n",
       "50%      50.000000    9478.500000     0.000000     0.000000     1.000000   \n",
       "75%      70.000000   11601.500000     0.000000     0.000000     1.000000   \n",
       "max     190.000000  215245.000000     1.000000     1.000000     1.000000   \n",
       "\n",
       "       MSZoning_RM  SaleCondition_AdjLand  SaleCondition_Alloca  \\\n",
       "count  1460.000000            1460.000000           1460.000000   \n",
       "mean      0.149315               0.002740              0.008219   \n",
       "std       0.356521               0.052289              0.090317   \n",
       "min       0.000000               0.000000              0.000000   \n",
       "25%       0.000000               0.000000              0.000000   \n",
       "50%       0.000000               0.000000              0.000000   \n",
       "75%       0.000000               0.000000              0.000000   \n",
       "max       1.000000               1.000000              1.000000   \n",
       "\n",
       "       SaleCondition_Family  SaleCondition_Normal  SaleCondition_Partial  \\\n",
       "count           1460.000000           1460.000000            1460.000000   \n",
       "mean               0.013699              0.820548               0.085616   \n",
       "std                0.116277              0.383862               0.279893   \n",
       "min                0.000000              0.000000               0.000000   \n",
       "25%                0.000000              1.000000               0.000000   \n",
       "50%                0.000000              1.000000               0.000000   \n",
       "75%                0.000000              1.000000               0.000000   \n",
       "max                1.000000              1.000000               1.000000   \n",
       "\n",
       "           SalePrice  \n",
       "count    1460.000000  \n",
       "mean   180921.195890  \n",
       "std     79442.502883  \n",
       "min     34900.000000  \n",
       "25%    129975.000000  \n",
       "50%    163000.000000  \n",
       "75%    214000.000000  \n",
       "max    755000.000000  "
      ],
      "text/html": "<div>\n<style scoped>\n    .dataframe tbody tr th:only-of-type {\n        vertical-align: middle;\n    }\n\n    .dataframe tbody tr th {\n        vertical-align: top;\n    }\n\n    .dataframe thead th {\n        text-align: right;\n    }\n</style>\n<table border=\"1\" class=\"dataframe\">\n  <thead>\n    <tr style=\"text-align: right;\">\n      <th></th>\n      <th>MSSubClass</th>\n      <th>LotArea</th>\n      <th>MSZoning_FV</th>\n      <th>MSZoning_RH</th>\n      <th>MSZoning_RL</th>\n      <th>MSZoning_RM</th>\n      <th>SaleCondition_AdjLand</th>\n      <th>SaleCondition_Alloca</th>\n      <th>SaleCondition_Family</th>\n      <th>SaleCondition_Normal</th>\n      <th>SaleCondition_Partial</th>\n      <th>SalePrice</th>\n    </tr>\n  </thead>\n  <tbody>\n    <tr>\n      <th>count</th>\n      <td>1460.000000</td>\n      <td>1460.000000</td>\n      <td>1460.000000</td>\n      <td>1460.000000</td>\n      <td>1460.000000</td>\n      <td>1460.000000</td>\n      <td>1460.000000</td>\n      <td>1460.000000</td>\n      <td>1460.000000</td>\n      <td>1460.000000</td>\n      <td>1460.000000</td>\n      <td>1460.000000</td>\n    </tr>\n    <tr>\n      <th>mean</th>\n      <td>56.897260</td>\n      <td>10516.828082</td>\n      <td>0.044521</td>\n      <td>0.010959</td>\n      <td>0.788356</td>\n      <td>0.149315</td>\n      <td>0.002740</td>\n      <td>0.008219</td>\n      <td>0.013699</td>\n      <td>0.820548</td>\n      <td>0.085616</td>\n      <td>180921.195890</td>\n    </tr>\n    <tr>\n      <th>std</th>\n      <td>42.300571</td>\n      <td>9981.264932</td>\n      <td>0.206319</td>\n      <td>0.104145</td>\n      <td>0.408614</td>\n      <td>0.356521</td>\n      <td>0.052289</td>\n      <td>0.090317</td>\n      <td>0.116277</td>\n      <td>0.383862</td>\n      <td>0.279893</td>\n      <td>79442.502883</td>\n    </tr>\n    <tr>\n      <th>min</th>\n      <td>20.000000</td>\n      <td>1300.000000</td>\n      <td>0.000000</td>\n      <td>0.000000</td>\n      <td>0.000000</td>\n      <td>0.000000</td>\n      <td>0.000000</td>\n      <td>0.000000</td>\n      <td>0.000000</td>\n      <td>0.000000</td>\n      <td>0.000000</td>\n      <td>34900.000000</td>\n    </tr>\n    <tr>\n      <th>25%</th>\n      <td>20.000000</td>\n      <td>7553.500000</td>\n      <td>0.000000</td>\n      <td>0.000000</td>\n      <td>1.000000</td>\n      <td>0.000000</td>\n      <td>0.000000</td>\n      <td>0.000000</td>\n      <td>0.000000</td>\n      <td>1.000000</td>\n      <td>0.000000</td>\n      <td>129975.000000</td>\n    </tr>\n    <tr>\n      <th>50%</th>\n      <td>50.000000</td>\n      <td>9478.500000</td>\n      <td>0.000000</td>\n      <td>0.000000</td>\n      <td>1.000000</td>\n      <td>0.000000</td>\n      <td>0.000000</td>\n      <td>0.000000</td>\n      <td>0.000000</td>\n      <td>1.000000</td>\n      <td>0.000000</td>\n      <td>163000.000000</td>\n    </tr>\n    <tr>\n      <th>75%</th>\n      <td>70.000000</td>\n      <td>11601.500000</td>\n      <td>0.000000</td>\n      <td>0.000000</td>\n      <td>1.000000</td>\n      <td>0.000000</td>\n      <td>0.000000</td>\n      <td>0.000000</td>\n      <td>0.000000</td>\n      <td>1.000000</td>\n      <td>0.000000</td>\n      <td>214000.000000</td>\n    </tr>\n    <tr>\n      <th>max</th>\n      <td>190.000000</td>\n      <td>215245.000000</td>\n      <td>1.000000</td>\n      <td>1.000000</td>\n      <td>1.000000</td>\n      <td>1.000000</td>\n      <td>1.000000</td>\n      <td>1.000000</td>\n      <td>1.000000</td>\n      <td>1.000000</td>\n      <td>1.000000</td>\n      <td>755000.000000</td>\n    </tr>\n  </tbody>\n</table>\n</div>"
     },
     "metadata": {},
     "execution_count": 386
    }
   ],
   "source": [
    "des_train.describe()"
   ]
  },
  {
   "source": [
    "## Processing (Training the model)\n",
    "#### Here we use Random-forest to train the model. \n",
    "### About Random-forest\n",
    "#### A random forest is an ensemble model that consists of many decision trees. Predictions are made by averaging the predictions of each decision tree. Or, to extend the analogy—much like a forest is a collection of trees, the random forest model is also a collection of decision tree models. This makes random forests a strong modeling technique that’s much more powerful than a single decision tree.Each tree in a random forest is trained on the test data provided.\n",
    "### Why we use it\n",
    "#### We need a model that’s robust, meaning its dependence on the noise in the training set is limited. The random forest algorithm is more robust than a single decision tree, as it uses a set of uncorrelated decision trees and also we don't have to deal with overfitting as we do in other models."
   ],
   "cell_type": "markdown",
   "metadata": {}
  },
  {
   "cell_type": "code",
   "execution_count": 387,
   "metadata": {},
   "outputs": [],
   "source": [
    "RandomForest = RandomForestRegressor()\n",
    "x = RandomForest.fit(x_train, y_train)"
   ]
  },
  {
   "source": [
    "## Evaluation\n",
    "#### We evaluate our model the root mean squared error between \"pred\" (our prediction) and (y_test).\n",
    "#### rmse is 23904.675563704 in my run."
   ],
   "cell_type": "markdown",
   "metadata": {}
  },
  {
   "cell_type": "code",
   "execution_count": 388,
   "metadata": {},
   "outputs": [],
   "source": [
    "pred = RandomForest.predict(x_test)"
   ]
  },
  {
   "cell_type": "code",
   "execution_count": 389,
   "metadata": {},
   "outputs": [
    {
     "output_type": "execute_result",
     "data": {
      "text/plain": [
       "25840.18678519524"
      ]
     },
     "metadata": {},
     "execution_count": 389
    }
   ],
   "source": [
    "mse = mean_squared_error(y_test, pred)\n",
    "rmse = np.sqrt(mse)\n",
    "rmse"
   ]
  },
  {
   "source": [
    "## Plotting y_test vs pred\n",
    "#### to show how good them model is."
   ],
   "cell_type": "markdown",
   "metadata": {}
  },
  {
   "cell_type": "code",
   "execution_count": 390,
   "metadata": {},
   "outputs": [
    {
     "output_type": "display_data",
     "data": {
      "text/plain": "<Figure size 432x288 with 1 Axes>",
      "image/svg+xml": "<?xml version=\"1.0\" encoding=\"utf-8\" standalone=\"no\"?>\r\n<!DOCTYPE svg PUBLIC \"-//W3C//DTD SVG 1.1//EN\"\r\n  \"http://www.w3.org/Graphics/SVG/1.1/DTD/svg11.dtd\">\r\n<svg height=\"248.518125pt\" version=\"1.1\" viewBox=\"0 0 402.754687 248.518125\" width=\"402.754687pt\" xmlns=\"http://www.w3.org/2000/svg\" xmlns:xlink=\"http://www.w3.org/1999/xlink\">\r\n <metadata>\r\n  <rdf:RDF xmlns:cc=\"http://creativecommons.org/ns#\" xmlns:dc=\"http://purl.org/dc/elements/1.1/\" xmlns:rdf=\"http://www.w3.org/1999/02/22-rdf-syntax-ns#\">\r\n   <cc:Work>\r\n    <dc:type rdf:resource=\"http://purl.org/dc/dcmitype/StillImage\"/>\r\n    <dc:date>2021-07-16T01:29:31.903265</dc:date>\r\n    <dc:format>image/svg+xml</dc:format>\r\n    <dc:creator>\r\n     <cc:Agent>\r\n      <dc:title>Matplotlib v3.4.1, https://matplotlib.org/</dc:title>\r\n     </cc:Agent>\r\n    </dc:creator>\r\n   </cc:Work>\r\n  </rdf:RDF>\r\n </metadata>\r\n <defs>\r\n  <style type=\"text/css\">*{stroke-linecap:butt;stroke-linejoin:round;}</style>\r\n </defs>\r\n <g id=\"figure_1\">\r\n  <g id=\"patch_1\">\r\n   <path d=\"M 0 248.518125 \r\nL 402.754687 248.518125 \r\nL 402.754687 0 \r\nL 0 0 \r\nz\r\n\" style=\"fill:none;\"/>\r\n  </g>\r\n  <g id=\"axes_1\">\r\n   <g id=\"patch_2\">\r\n    <path d=\"M 60.754688 224.64 \r\nL 395.554688 224.64 \r\nL 395.554688 7.2 \r\nL 60.754688 7.2 \r\nz\r\n\" style=\"fill:#ffffff;\"/>\r\n   </g>\r\n   <g id=\"matplotlib.axis_1\">\r\n    <g id=\"xtick_1\">\r\n     <g id=\"line2d_1\">\r\n      <defs>\r\n       <path d=\"M 0 0 \r\nL 0 3.5 \r\n\" id=\"mc0bcda5e23\" style=\"stroke:#000000;stroke-width:0.8;\"/>\r\n      </defs>\r\n      <g>\r\n       <use style=\"stroke:#000000;stroke-width:0.8;\" x=\"75.972869\" xlink:href=\"#mc0bcda5e23\" y=\"224.64\"/>\r\n      </g>\r\n     </g>\r\n     <g id=\"text_1\">\r\n      <!-- 0 -->\r\n      <g transform=\"translate(72.791619 239.238437)scale(0.1 -0.1)\">\r\n       <defs>\r\n        <path d=\"M 2034 4250 \r\nQ 1547 4250 1301 3770 \r\nQ 1056 3291 1056 2328 \r\nQ 1056 1369 1301 889 \r\nQ 1547 409 2034 409 \r\nQ 2525 409 2770 889 \r\nQ 3016 1369 3016 2328 \r\nQ 3016 3291 2770 3770 \r\nQ 2525 4250 2034 4250 \r\nz\r\nM 2034 4750 \r\nQ 2819 4750 3233 4129 \r\nQ 3647 3509 3647 2328 \r\nQ 3647 1150 3233 529 \r\nQ 2819 -91 2034 -91 \r\nQ 1250 -91 836 529 \r\nQ 422 1150 422 2328 \r\nQ 422 3509 836 4129 \r\nQ 1250 4750 2034 4750 \r\nz\r\n\" id=\"DejaVuSans-30\" transform=\"scale(0.015625)\"/>\r\n       </defs>\r\n       <use xlink:href=\"#DejaVuSans-30\"/>\r\n      </g>\r\n     </g>\r\n    </g>\r\n    <g id=\"xtick_2\">\r\n     <g id=\"line2d_2\">\r\n      <g>\r\n       <use style=\"stroke:#000000;stroke-width:0.8;\" x=\"116.020716\" xlink:href=\"#mc0bcda5e23\" y=\"224.64\"/>\r\n      </g>\r\n     </g>\r\n     <g id=\"text_2\">\r\n      <!-- 25 -->\r\n      <g transform=\"translate(109.658216 239.238437)scale(0.1 -0.1)\">\r\n       <defs>\r\n        <path d=\"M 1228 531 \r\nL 3431 531 \r\nL 3431 0 \r\nL 469 0 \r\nL 469 531 \r\nQ 828 903 1448 1529 \r\nQ 2069 2156 2228 2338 \r\nQ 2531 2678 2651 2914 \r\nQ 2772 3150 2772 3378 \r\nQ 2772 3750 2511 3984 \r\nQ 2250 4219 1831 4219 \r\nQ 1534 4219 1204 4116 \r\nQ 875 4013 500 3803 \r\nL 500 4441 \r\nQ 881 4594 1212 4672 \r\nQ 1544 4750 1819 4750 \r\nQ 2544 4750 2975 4387 \r\nQ 3406 4025 3406 3419 \r\nQ 3406 3131 3298 2873 \r\nQ 3191 2616 2906 2266 \r\nQ 2828 2175 2409 1742 \r\nQ 1991 1309 1228 531 \r\nz\r\n\" id=\"DejaVuSans-32\" transform=\"scale(0.015625)\"/>\r\n        <path d=\"M 691 4666 \r\nL 3169 4666 \r\nL 3169 4134 \r\nL 1269 4134 \r\nL 1269 2991 \r\nQ 1406 3038 1543 3061 \r\nQ 1681 3084 1819 3084 \r\nQ 2600 3084 3056 2656 \r\nQ 3513 2228 3513 1497 \r\nQ 3513 744 3044 326 \r\nQ 2575 -91 1722 -91 \r\nQ 1428 -91 1123 -41 \r\nQ 819 9 494 109 \r\nL 494 744 \r\nQ 775 591 1075 516 \r\nQ 1375 441 1709 441 \r\nQ 2250 441 2565 725 \r\nQ 2881 1009 2881 1497 \r\nQ 2881 1984 2565 2268 \r\nQ 2250 2553 1709 2553 \r\nQ 1456 2553 1204 2497 \r\nQ 953 2441 691 2322 \r\nL 691 4666 \r\nz\r\n\" id=\"DejaVuSans-35\" transform=\"scale(0.015625)\"/>\r\n       </defs>\r\n       <use xlink:href=\"#DejaVuSans-32\"/>\r\n       <use x=\"63.623047\" xlink:href=\"#DejaVuSans-35\"/>\r\n      </g>\r\n     </g>\r\n    </g>\r\n    <g id=\"xtick_3\">\r\n     <g id=\"line2d_3\">\r\n      <g>\r\n       <use style=\"stroke:#000000;stroke-width:0.8;\" x=\"156.068563\" xlink:href=\"#mc0bcda5e23\" y=\"224.64\"/>\r\n      </g>\r\n     </g>\r\n     <g id=\"text_3\">\r\n      <!-- 50 -->\r\n      <g transform=\"translate(149.706063 239.238437)scale(0.1 -0.1)\">\r\n       <use xlink:href=\"#DejaVuSans-35\"/>\r\n       <use x=\"63.623047\" xlink:href=\"#DejaVuSans-30\"/>\r\n      </g>\r\n     </g>\r\n    </g>\r\n    <g id=\"xtick_4\">\r\n     <g id=\"line2d_4\">\r\n      <g>\r\n       <use style=\"stroke:#000000;stroke-width:0.8;\" x=\"196.11641\" xlink:href=\"#mc0bcda5e23\" y=\"224.64\"/>\r\n      </g>\r\n     </g>\r\n     <g id=\"text_4\">\r\n      <!-- 75 -->\r\n      <g transform=\"translate(189.75391 239.238437)scale(0.1 -0.1)\">\r\n       <defs>\r\n        <path d=\"M 525 4666 \r\nL 3525 4666 \r\nL 3525 4397 \r\nL 1831 0 \r\nL 1172 0 \r\nL 2766 4134 \r\nL 525 4134 \r\nL 525 4666 \r\nz\r\n\" id=\"DejaVuSans-37\" transform=\"scale(0.015625)\"/>\r\n       </defs>\r\n       <use xlink:href=\"#DejaVuSans-37\"/>\r\n       <use x=\"63.623047\" xlink:href=\"#DejaVuSans-35\"/>\r\n      </g>\r\n     </g>\r\n    </g>\r\n    <g id=\"xtick_5\">\r\n     <g id=\"line2d_5\">\r\n      <g>\r\n       <use style=\"stroke:#000000;stroke-width:0.8;\" x=\"236.164257\" xlink:href=\"#mc0bcda5e23\" y=\"224.64\"/>\r\n      </g>\r\n     </g>\r\n     <g id=\"text_5\">\r\n      <!-- 100 -->\r\n      <g transform=\"translate(226.620507 239.238437)scale(0.1 -0.1)\">\r\n       <defs>\r\n        <path d=\"M 794 531 \r\nL 1825 531 \r\nL 1825 4091 \r\nL 703 3866 \r\nL 703 4441 \r\nL 1819 4666 \r\nL 2450 4666 \r\nL 2450 531 \r\nL 3481 531 \r\nL 3481 0 \r\nL 794 0 \r\nL 794 531 \r\nz\r\n\" id=\"DejaVuSans-31\" transform=\"scale(0.015625)\"/>\r\n       </defs>\r\n       <use xlink:href=\"#DejaVuSans-31\"/>\r\n       <use x=\"63.623047\" xlink:href=\"#DejaVuSans-30\"/>\r\n       <use x=\"127.246094\" xlink:href=\"#DejaVuSans-30\"/>\r\n      </g>\r\n     </g>\r\n    </g>\r\n    <g id=\"xtick_6\">\r\n     <g id=\"line2d_6\">\r\n      <g>\r\n       <use style=\"stroke:#000000;stroke-width:0.8;\" x=\"276.212104\" xlink:href=\"#mc0bcda5e23\" y=\"224.64\"/>\r\n      </g>\r\n     </g>\r\n     <g id=\"text_6\">\r\n      <!-- 125 -->\r\n      <g transform=\"translate(266.668354 239.238437)scale(0.1 -0.1)\">\r\n       <use xlink:href=\"#DejaVuSans-31\"/>\r\n       <use x=\"63.623047\" xlink:href=\"#DejaVuSans-32\"/>\r\n       <use x=\"127.246094\" xlink:href=\"#DejaVuSans-35\"/>\r\n      </g>\r\n     </g>\r\n    </g>\r\n    <g id=\"xtick_7\">\r\n     <g id=\"line2d_7\">\r\n      <g>\r\n       <use style=\"stroke:#000000;stroke-width:0.8;\" x=\"316.259951\" xlink:href=\"#mc0bcda5e23\" y=\"224.64\"/>\r\n      </g>\r\n     </g>\r\n     <g id=\"text_7\">\r\n      <!-- 150 -->\r\n      <g transform=\"translate(306.716201 239.238437)scale(0.1 -0.1)\">\r\n       <use xlink:href=\"#DejaVuSans-31\"/>\r\n       <use x=\"63.623047\" xlink:href=\"#DejaVuSans-35\"/>\r\n       <use x=\"127.246094\" xlink:href=\"#DejaVuSans-30\"/>\r\n      </g>\r\n     </g>\r\n    </g>\r\n    <g id=\"xtick_8\">\r\n     <g id=\"line2d_8\">\r\n      <g>\r\n       <use style=\"stroke:#000000;stroke-width:0.8;\" x=\"356.307798\" xlink:href=\"#mc0bcda5e23\" y=\"224.64\"/>\r\n      </g>\r\n     </g>\r\n     <g id=\"text_8\">\r\n      <!-- 175 -->\r\n      <g transform=\"translate(346.764048 239.238437)scale(0.1 -0.1)\">\r\n       <use xlink:href=\"#DejaVuSans-31\"/>\r\n       <use x=\"63.623047\" xlink:href=\"#DejaVuSans-37\"/>\r\n       <use x=\"127.246094\" xlink:href=\"#DejaVuSans-35\"/>\r\n      </g>\r\n     </g>\r\n    </g>\r\n   </g>\r\n   <g id=\"matplotlib.axis_2\">\r\n    <g id=\"ytick_1\">\r\n     <g id=\"line2d_9\">\r\n      <defs>\r\n       <path d=\"M 0 0 \r\nL -3.5 0 \r\n\" id=\"m0f4c3e7570\" style=\"stroke:#000000;stroke-width:0.8;\"/>\r\n      </defs>\r\n      <g>\r\n       <use style=\"stroke:#000000;stroke-width:0.8;\" x=\"60.754688\" xlink:href=\"#m0f4c3e7570\" y=\"192.645628\"/>\r\n      </g>\r\n     </g>\r\n     <g id=\"text_9\">\r\n      <!-- −100000 -->\r\n      <g transform=\"translate(7.2 196.444847)scale(0.1 -0.1)\">\r\n       <defs>\r\n        <path d=\"M 678 2272 \r\nL 4684 2272 \r\nL 4684 1741 \r\nL 678 1741 \r\nL 678 2272 \r\nz\r\n\" id=\"DejaVuSans-2212\" transform=\"scale(0.015625)\"/>\r\n       </defs>\r\n       <use xlink:href=\"#DejaVuSans-2212\"/>\r\n       <use x=\"83.789062\" xlink:href=\"#DejaVuSans-31\"/>\r\n       <use x=\"147.412109\" xlink:href=\"#DejaVuSans-30\"/>\r\n       <use x=\"211.035156\" xlink:href=\"#DejaVuSans-30\"/>\r\n       <use x=\"274.658203\" xlink:href=\"#DejaVuSans-30\"/>\r\n       <use x=\"338.28125\" xlink:href=\"#DejaVuSans-30\"/>\r\n       <use x=\"401.904297\" xlink:href=\"#DejaVuSans-30\"/>\r\n      </g>\r\n     </g>\r\n    </g>\r\n    <g id=\"ytick_2\">\r\n     <g id=\"line2d_10\">\r\n      <g>\r\n       <use style=\"stroke:#000000;stroke-width:0.8;\" x=\"60.754688\" xlink:href=\"#m0f4c3e7570\" y=\"149.476062\"/>\r\n      </g>\r\n     </g>\r\n     <g id=\"text_10\">\r\n      <!-- −50000 -->\r\n      <g transform=\"translate(13.5625 153.275281)scale(0.1 -0.1)\">\r\n       <use xlink:href=\"#DejaVuSans-2212\"/>\r\n       <use x=\"83.789062\" xlink:href=\"#DejaVuSans-35\"/>\r\n       <use x=\"147.412109\" xlink:href=\"#DejaVuSans-30\"/>\r\n       <use x=\"211.035156\" xlink:href=\"#DejaVuSans-30\"/>\r\n       <use x=\"274.658203\" xlink:href=\"#DejaVuSans-30\"/>\r\n       <use x=\"338.28125\" xlink:href=\"#DejaVuSans-30\"/>\r\n      </g>\r\n     </g>\r\n    </g>\r\n    <g id=\"ytick_3\">\r\n     <g id=\"line2d_11\">\r\n      <g>\r\n       <use style=\"stroke:#000000;stroke-width:0.8;\" x=\"60.754688\" xlink:href=\"#m0f4c3e7570\" y=\"106.306496\"/>\r\n      </g>\r\n     </g>\r\n     <g id=\"text_11\">\r\n      <!-- 0 -->\r\n      <g transform=\"translate(47.392188 110.105715)scale(0.1 -0.1)\">\r\n       <use xlink:href=\"#DejaVuSans-30\"/>\r\n      </g>\r\n     </g>\r\n    </g>\r\n    <g id=\"ytick_4\">\r\n     <g id=\"line2d_12\">\r\n      <g>\r\n       <use style=\"stroke:#000000;stroke-width:0.8;\" x=\"60.754688\" xlink:href=\"#m0f4c3e7570\" y=\"63.13693\"/>\r\n      </g>\r\n     </g>\r\n     <g id=\"text_12\">\r\n      <!-- 50000 -->\r\n      <g transform=\"translate(21.942188 66.936148)scale(0.1 -0.1)\">\r\n       <use xlink:href=\"#DejaVuSans-35\"/>\r\n       <use x=\"63.623047\" xlink:href=\"#DejaVuSans-30\"/>\r\n       <use x=\"127.246094\" xlink:href=\"#DejaVuSans-30\"/>\r\n       <use x=\"190.869141\" xlink:href=\"#DejaVuSans-30\"/>\r\n       <use x=\"254.492188\" xlink:href=\"#DejaVuSans-30\"/>\r\n      </g>\r\n     </g>\r\n    </g>\r\n    <g id=\"ytick_5\">\r\n     <g id=\"line2d_13\">\r\n      <g>\r\n       <use style=\"stroke:#000000;stroke-width:0.8;\" x=\"60.754688\" xlink:href=\"#m0f4c3e7570\" y=\"19.967363\"/>\r\n      </g>\r\n     </g>\r\n     <g id=\"text_13\">\r\n      <!-- 100000 -->\r\n      <g transform=\"translate(15.579687 23.766582)scale(0.1 -0.1)\">\r\n       <use xlink:href=\"#DejaVuSans-31\"/>\r\n       <use x=\"63.623047\" xlink:href=\"#DejaVuSans-30\"/>\r\n       <use x=\"127.246094\" xlink:href=\"#DejaVuSans-30\"/>\r\n       <use x=\"190.869141\" xlink:href=\"#DejaVuSans-30\"/>\r\n       <use x=\"254.492188\" xlink:href=\"#DejaVuSans-30\"/>\r\n       <use x=\"318.115234\" xlink:href=\"#DejaVuSans-30\"/>\r\n      </g>\r\n     </g>\r\n    </g>\r\n   </g>\r\n   <g id=\"line2d_14\">\r\n    <defs>\r\n     <path d=\"M 0 3 \r\nC 0.795609 3 1.55874 2.683901 2.12132 2.12132 \r\nC 2.683901 1.55874 3 0.795609 3 0 \r\nC 3 -0.795609 2.683901 -1.55874 2.12132 -2.12132 \r\nC 1.55874 -2.683901 0.795609 -3 0 -3 \r\nC -0.795609 -3 -1.55874 -2.683901 -2.12132 -2.12132 \r\nC -2.683901 -1.55874 -3 -0.795609 -3 0 \r\nC -3 0.795609 -2.683901 1.55874 -2.12132 2.12132 \r\nC -1.55874 2.683901 -0.795609 3 0 3 \r\nz\r\n\" id=\"m823865b11d\" style=\"stroke:#1f77b4;\"/>\r\n    </defs>\r\n    <g clip-path=\"url(#p3704ac7456)\">\r\n     <use style=\"fill:#1f77b4;stroke:#1f77b4;\" x=\"75.972869\" xlink:href=\"#m823865b11d\" y=\"102.93301\"/>\r\n     <use style=\"fill:#1f77b4;stroke:#1f77b4;\" x=\"77.574783\" xlink:href=\"#m823865b11d\" y=\"85.430499\"/>\r\n     <use style=\"fill:#1f77b4;stroke:#1f77b4;\" x=\"79.176697\" xlink:href=\"#m823865b11d\" y=\"100.749563\"/>\r\n     <use style=\"fill:#1f77b4;stroke:#1f77b4;\" x=\"80.778611\" xlink:href=\"#m823865b11d\" y=\"115.982954\"/>\r\n     <use style=\"fill:#1f77b4;stroke:#1f77b4;\" x=\"82.380525\" xlink:href=\"#m823865b11d\" y=\"69.828644\"/>\r\n     <use style=\"fill:#1f77b4;stroke:#1f77b4;\" x=\"83.982439\" xlink:href=\"#m823865b11d\" y=\"69.838141\"/>\r\n     <use style=\"fill:#1f77b4;stroke:#1f77b4;\" x=\"85.584353\" xlink:href=\"#m823865b11d\" y=\"114.094286\"/>\r\n     <use style=\"fill:#1f77b4;stroke:#1f77b4;\" x=\"87.186266\" xlink:href=\"#m823865b11d\" y=\"102.698599\"/>\r\n     <use style=\"fill:#1f77b4;stroke:#1f77b4;\" x=\"88.78818\" xlink:href=\"#m823865b11d\" y=\"97.784824\"/>\r\n     <use style=\"fill:#1f77b4;stroke:#1f77b4;\" x=\"90.390094\" xlink:href=\"#m823865b11d\" y=\"112.038119\"/>\r\n     <use style=\"fill:#1f77b4;stroke:#1f77b4;\" x=\"91.992008\" xlink:href=\"#m823865b11d\" y=\"105.678194\"/>\r\n     <use style=\"fill:#1f77b4;stroke:#1f77b4;\" x=\"93.593922\" xlink:href=\"#m823865b11d\" y=\"104.781377\"/>\r\n     <use style=\"fill:#1f77b4;stroke:#1f77b4;\" x=\"95.195836\" xlink:href=\"#m823865b11d\" y=\"104.57849\"/>\r\n     <use style=\"fill:#1f77b4;stroke:#1f77b4;\" x=\"96.79775\" xlink:href=\"#m823865b11d\" y=\"112.389649\"/>\r\n     <use style=\"fill:#1f77b4;stroke:#1f77b4;\" x=\"98.399664\" xlink:href=\"#m823865b11d\" y=\"107.038013\"/>\r\n     <use style=\"fill:#1f77b4;stroke:#1f77b4;\" x=\"100.001577\" xlink:href=\"#m823865b11d\" y=\"133.665316\"/>\r\n     <use style=\"fill:#1f77b4;stroke:#1f77b4;\" x=\"101.603491\" xlink:href=\"#m823865b11d\" y=\"107.543587\"/>\r\n     <use style=\"fill:#1f77b4;stroke:#1f77b4;\" x=\"103.205405\" xlink:href=\"#m823865b11d\" y=\"107.699639\"/>\r\n     <use style=\"fill:#1f77b4;stroke:#1f77b4;\" x=\"104.807319\" xlink:href=\"#m823865b11d\" y=\"109.508814\"/>\r\n     <use style=\"fill:#1f77b4;stroke:#1f77b4;\" x=\"106.409233\" xlink:href=\"#m823865b11d\" y=\"144.31586\"/>\r\n     <use style=\"fill:#1f77b4;stroke:#1f77b4;\" x=\"108.011147\" xlink:href=\"#m823865b11d\" y=\"130.978479\"/>\r\n     <use style=\"fill:#1f77b4;stroke:#1f77b4;\" x=\"109.613061\" xlink:href=\"#m823865b11d\" y=\"107.197228\"/>\r\n     <use style=\"fill:#1f77b4;stroke:#1f77b4;\" x=\"111.214975\" xlink:href=\"#m823865b11d\" y=\"89.546542\"/>\r\n     <use style=\"fill:#1f77b4;stroke:#1f77b4;\" x=\"112.816888\" xlink:href=\"#m823865b11d\" y=\"118.570106\"/>\r\n     <use style=\"fill:#1f77b4;stroke:#1f77b4;\" x=\"114.418802\" xlink:href=\"#m823865b11d\" y=\"106.831941\"/>\r\n     <use style=\"fill:#1f77b4;stroke:#1f77b4;\" x=\"116.020716\" xlink:href=\"#m823865b11d\" y=\"105.391301\"/>\r\n     <use style=\"fill:#1f77b4;stroke:#1f77b4;\" x=\"117.62263\" xlink:href=\"#m823865b11d\" y=\"103.264912\"/>\r\n     <use style=\"fill:#1f77b4;stroke:#1f77b4;\" x=\"119.224544\" xlink:href=\"#m823865b11d\" y=\"156.331389\"/>\r\n     <use style=\"fill:#1f77b4;stroke:#1f77b4;\" x=\"120.826458\" xlink:href=\"#m823865b11d\" y=\"100.390536\"/>\r\n     <use style=\"fill:#1f77b4;stroke:#1f77b4;\" x=\"122.428372\" xlink:href=\"#m823865b11d\" y=\"99.180452\"/>\r\n     <use style=\"fill:#1f77b4;stroke:#1f77b4;\" x=\"124.030286\" xlink:href=\"#m823865b11d\" y=\"134.063869\"/>\r\n     <use style=\"fill:#1f77b4;stroke:#1f77b4;\" x=\"125.632199\" xlink:href=\"#m823865b11d\" y=\"122.937931\"/>\r\n     <use style=\"fill:#1f77b4;stroke:#1f77b4;\" x=\"127.234113\" xlink:href=\"#m823865b11d\" y=\"118.045596\"/>\r\n     <use style=\"fill:#1f77b4;stroke:#1f77b4;\" x=\"128.836027\" xlink:href=\"#m823865b11d\" y=\"112.745956\"/>\r\n     <use style=\"fill:#1f77b4;stroke:#1f77b4;\" x=\"130.437941\" xlink:href=\"#m823865b11d\" y=\"110.683268\"/>\r\n     <use style=\"fill:#1f77b4;stroke:#1f77b4;\" x=\"132.039855\" xlink:href=\"#m823865b11d\" y=\"127.190438\"/>\r\n     <use style=\"fill:#1f77b4;stroke:#1f77b4;\" x=\"133.641769\" xlink:href=\"#m823865b11d\" y=\"103.363195\"/>\r\n     <use style=\"fill:#1f77b4;stroke:#1f77b4;\" x=\"135.243683\" xlink:href=\"#m823865b11d\" y=\"124.180803\"/>\r\n     <use style=\"fill:#1f77b4;stroke:#1f77b4;\" x=\"136.845597\" xlink:href=\"#m823865b11d\" y=\"66.945133\"/>\r\n     <use style=\"fill:#1f77b4;stroke:#1f77b4;\" x=\"138.44751\" xlink:href=\"#m823865b11d\" y=\"136.251929\"/>\r\n     <use style=\"fill:#1f77b4;stroke:#1f77b4;\" x=\"140.049424\" xlink:href=\"#m823865b11d\" y=\"75.157269\"/>\r\n     <use style=\"fill:#1f77b4;stroke:#1f77b4;\" x=\"141.651338\" xlink:href=\"#m823865b11d\" y=\"99.867323\"/>\r\n     <use style=\"fill:#1f77b4;stroke:#1f77b4;\" x=\"143.253252\" xlink:href=\"#m823865b11d\" y=\"142.057372\"/>\r\n     <use style=\"fill:#1f77b4;stroke:#1f77b4;\" x=\"144.855166\" xlink:href=\"#m823865b11d\" y=\"129.862401\"/>\r\n     <use style=\"fill:#1f77b4;stroke:#1f77b4;\" x=\"146.45708\" xlink:href=\"#m823865b11d\" y=\"98.006283\"/>\r\n     <use style=\"fill:#1f77b4;stroke:#1f77b4;\" x=\"148.058994\" xlink:href=\"#m823865b11d\" y=\"105.327338\"/>\r\n     <use style=\"fill:#1f77b4;stroke:#1f77b4;\" x=\"149.660908\" xlink:href=\"#m823865b11d\" y=\"121.303603\"/>\r\n     <use style=\"fill:#1f77b4;stroke:#1f77b4;\" x=\"151.262821\" xlink:href=\"#m823865b11d\" y=\"104.336107\"/>\r\n     <use style=\"fill:#1f77b4;stroke:#1f77b4;\" x=\"152.864735\" xlink:href=\"#m823865b11d\" y=\"112.901079\"/>\r\n     <use style=\"fill:#1f77b4;stroke:#1f77b4;\" x=\"154.466649\" xlink:href=\"#m823865b11d\" y=\"110.724288\"/>\r\n     <use style=\"fill:#1f77b4;stroke:#1f77b4;\" x=\"156.068563\" xlink:href=\"#m823865b11d\" y=\"115.731068\"/>\r\n     <use style=\"fill:#1f77b4;stroke:#1f77b4;\" x=\"157.670477\" xlink:href=\"#m823865b11d\" y=\"108.66636\"/>\r\n     <use style=\"fill:#1f77b4;stroke:#1f77b4;\" x=\"159.272391\" xlink:href=\"#m823865b11d\" y=\"102.843002\"/>\r\n     <use style=\"fill:#1f77b4;stroke:#1f77b4;\" x=\"160.874305\" xlink:href=\"#m823865b11d\" y=\"101.074035\"/>\r\n     <use style=\"fill:#1f77b4;stroke:#1f77b4;\" x=\"162.476219\" xlink:href=\"#m823865b11d\" y=\"95.051327\"/>\r\n     <use style=\"fill:#1f77b4;stroke:#1f77b4;\" x=\"164.078132\" xlink:href=\"#m823865b11d\" y=\"108.687729\"/>\r\n     <use style=\"fill:#1f77b4;stroke:#1f77b4;\" x=\"165.680046\" xlink:href=\"#m823865b11d\" y=\"102.264961\"/>\r\n     <use style=\"fill:#1f77b4;stroke:#1f77b4;\" x=\"167.28196\" xlink:href=\"#m823865b11d\" y=\"20.897806\"/>\r\n     <use style=\"fill:#1f77b4;stroke:#1f77b4;\" x=\"168.883874\" xlink:href=\"#m823865b11d\" y=\"112.931585\"/>\r\n     <use style=\"fill:#1f77b4;stroke:#1f77b4;\" x=\"170.485788\" xlink:href=\"#m823865b11d\" y=\"121.100958\"/>\r\n     <use style=\"fill:#1f77b4;stroke:#1f77b4;\" x=\"172.087702\" xlink:href=\"#m823865b11d\" y=\"110.269462\"/>\r\n     <use style=\"fill:#1f77b4;stroke:#1f77b4;\" x=\"173.689616\" xlink:href=\"#m823865b11d\" y=\"112.700772\"/>\r\n     <use style=\"fill:#1f77b4;stroke:#1f77b4;\" x=\"175.29153\" xlink:href=\"#m823865b11d\" y=\"69.396517\"/>\r\n     <use style=\"fill:#1f77b4;stroke:#1f77b4;\" x=\"176.893443\" xlink:href=\"#m823865b11d\" y=\"46.067683\"/>\r\n     <use style=\"fill:#1f77b4;stroke:#1f77b4;\" x=\"178.495357\" xlink:href=\"#m823865b11d\" y=\"108.014572\"/>\r\n     <use style=\"fill:#1f77b4;stroke:#1f77b4;\" x=\"180.097271\" xlink:href=\"#m823865b11d\" y=\"110.264066\"/>\r\n     <use style=\"fill:#1f77b4;stroke:#1f77b4;\" x=\"181.699185\" xlink:href=\"#m823865b11d\" y=\"100.50537\"/>\r\n     <use style=\"fill:#1f77b4;stroke:#1f77b4;\" x=\"183.301099\" xlink:href=\"#m823865b11d\" y=\"101.976588\"/>\r\n     <use style=\"fill:#1f77b4;stroke:#1f77b4;\" x=\"184.903013\" xlink:href=\"#m823865b11d\" y=\"106.345492\"/>\r\n     <use style=\"fill:#1f77b4;stroke:#1f77b4;\" x=\"186.504927\" xlink:href=\"#m823865b11d\" y=\"141.417599\"/>\r\n     <use style=\"fill:#1f77b4;stroke:#1f77b4;\" x=\"188.106841\" xlink:href=\"#m823865b11d\" y=\"69.369752\"/>\r\n     <use style=\"fill:#1f77b4;stroke:#1f77b4;\" x=\"189.708754\" xlink:href=\"#m823865b11d\" y=\"120.270797\"/>\r\n     <use style=\"fill:#1f77b4;stroke:#1f77b4;\" x=\"191.310668\" xlink:href=\"#m823865b11d\" y=\"110.54143\"/>\r\n     <use style=\"fill:#1f77b4;stroke:#1f77b4;\" x=\"192.912582\" xlink:href=\"#m823865b11d\" y=\"94.897355\"/>\r\n     <use style=\"fill:#1f77b4;stroke:#1f77b4;\" x=\"194.514496\" xlink:href=\"#m823865b11d\" y=\"123.102911\"/>\r\n     <use style=\"fill:#1f77b4;stroke:#1f77b4;\" x=\"196.11641\" xlink:href=\"#m823865b11d\" y=\"112.889855\"/>\r\n     <use style=\"fill:#1f77b4;stroke:#1f77b4;\" x=\"197.718324\" xlink:href=\"#m823865b11d\" y=\"95.397978\"/>\r\n     <use style=\"fill:#1f77b4;stroke:#1f77b4;\" x=\"199.320238\" xlink:href=\"#m823865b11d\" y=\"214.756364\"/>\r\n     <use style=\"fill:#1f77b4;stroke:#1f77b4;\" x=\"200.922152\" xlink:href=\"#m823865b11d\" y=\"73.214027\"/>\r\n     <use style=\"fill:#1f77b4;stroke:#1f77b4;\" x=\"202.524065\" xlink:href=\"#m823865b11d\" y=\"105.164805\"/>\r\n     <use style=\"fill:#1f77b4;stroke:#1f77b4;\" x=\"204.125979\" xlink:href=\"#m823865b11d\" y=\"111.400602\"/>\r\n     <use style=\"fill:#1f77b4;stroke:#1f77b4;\" x=\"205.727893\" xlink:href=\"#m823865b11d\" y=\"121.673351\"/>\r\n     <use style=\"fill:#1f77b4;stroke:#1f77b4;\" x=\"207.329807\" xlink:href=\"#m823865b11d\" y=\"102.538806\"/>\r\n     <use style=\"fill:#1f77b4;stroke:#1f77b4;\" x=\"208.931721\" xlink:href=\"#m823865b11d\" y=\"81.89756\"/>\r\n     <use style=\"fill:#1f77b4;stroke:#1f77b4;\" x=\"210.533635\" xlink:href=\"#m823865b11d\" y=\"113.269661\"/>\r\n     <use style=\"fill:#1f77b4;stroke:#1f77b4;\" x=\"212.135549\" xlink:href=\"#m823865b11d\" y=\"83.521599\"/>\r\n     <use style=\"fill:#1f77b4;stroke:#1f77b4;\" x=\"213.737463\" xlink:href=\"#m823865b11d\" y=\"109.153097\"/>\r\n     <use style=\"fill:#1f77b4;stroke:#1f77b4;\" x=\"215.339376\" xlink:href=\"#m823865b11d\" y=\"119.658627\"/>\r\n     <use style=\"fill:#1f77b4;stroke:#1f77b4;\" x=\"216.94129\" xlink:href=\"#m823865b11d\" y=\"105.86444\"/>\r\n     <use style=\"fill:#1f77b4;stroke:#1f77b4;\" x=\"218.543204\" xlink:href=\"#m823865b11d\" y=\"153.72588\"/>\r\n     <use style=\"fill:#1f77b4;stroke:#1f77b4;\" x=\"220.145118\" xlink:href=\"#m823865b11d\" y=\"114.973588\"/>\r\n     <use style=\"fill:#1f77b4;stroke:#1f77b4;\" x=\"221.747032\" xlink:href=\"#m823865b11d\" y=\"70.017727\"/>\r\n     <use style=\"fill:#1f77b4;stroke:#1f77b4;\" x=\"223.348946\" xlink:href=\"#m823865b11d\" y=\"95.583176\"/>\r\n     <use style=\"fill:#1f77b4;stroke:#1f77b4;\" x=\"224.95086\" xlink:href=\"#m823865b11d\" y=\"97.856917\"/>\r\n     <use style=\"fill:#1f77b4;stroke:#1f77b4;\" x=\"226.552774\" xlink:href=\"#m823865b11d\" y=\"106.070502\"/>\r\n     <use style=\"fill:#1f77b4;stroke:#1f77b4;\" x=\"228.154688\" xlink:href=\"#m823865b11d\" y=\"104.40858\"/>\r\n     <use style=\"fill:#1f77b4;stroke:#1f77b4;\" x=\"229.756601\" xlink:href=\"#m823865b11d\" y=\"110.140817\"/>\r\n     <use style=\"fill:#1f77b4;stroke:#1f77b4;\" x=\"231.358515\" xlink:href=\"#m823865b11d\" y=\"96.920785\"/>\r\n     <use style=\"fill:#1f77b4;stroke:#1f77b4;\" x=\"232.960429\" xlink:href=\"#m823865b11d\" y=\"142.343715\"/>\r\n     <use style=\"fill:#1f77b4;stroke:#1f77b4;\" x=\"234.562343\" xlink:href=\"#m823865b11d\" y=\"146.135618\"/>\r\n     <use style=\"fill:#1f77b4;stroke:#1f77b4;\" x=\"236.164257\" xlink:href=\"#m823865b11d\" y=\"17.083636\"/>\r\n     <use style=\"fill:#1f77b4;stroke:#1f77b4;\" x=\"237.766171\" xlink:href=\"#m823865b11d\" y=\"126.4915\"/>\r\n     <use style=\"fill:#1f77b4;stroke:#1f77b4;\" x=\"239.368085\" xlink:href=\"#m823865b11d\" y=\"95.7682\"/>\r\n     <use style=\"fill:#1f77b4;stroke:#1f77b4;\" x=\"240.969999\" xlink:href=\"#m823865b11d\" y=\"102.324535\"/>\r\n     <use style=\"fill:#1f77b4;stroke:#1f77b4;\" x=\"242.571912\" xlink:href=\"#m823865b11d\" y=\"141.671005\"/>\r\n     <use style=\"fill:#1f77b4;stroke:#1f77b4;\" x=\"244.173826\" xlink:href=\"#m823865b11d\" y=\"117.404631\"/>\r\n     <use style=\"fill:#1f77b4;stroke:#1f77b4;\" x=\"245.77574\" xlink:href=\"#m823865b11d\" y=\"108.951064\"/>\r\n     <use style=\"fill:#1f77b4;stroke:#1f77b4;\" x=\"247.377654\" xlink:href=\"#m823865b11d\" y=\"118.648675\"/>\r\n     <use style=\"fill:#1f77b4;stroke:#1f77b4;\" x=\"248.979568\" xlink:href=\"#m823865b11d\" y=\"105.508204\"/>\r\n     <use style=\"fill:#1f77b4;stroke:#1f77b4;\" x=\"250.581482\" xlink:href=\"#m823865b11d\" y=\"166.799336\"/>\r\n     <use style=\"fill:#1f77b4;stroke:#1f77b4;\" x=\"252.183396\" xlink:href=\"#m823865b11d\" y=\"95.426902\"/>\r\n     <use style=\"fill:#1f77b4;stroke:#1f77b4;\" x=\"253.78531\" xlink:href=\"#m823865b11d\" y=\"118.776457\"/>\r\n     <use style=\"fill:#1f77b4;stroke:#1f77b4;\" x=\"255.387223\" xlink:href=\"#m823865b11d\" y=\"108.926975\"/>\r\n     <use style=\"fill:#1f77b4;stroke:#1f77b4;\" x=\"256.989137\" xlink:href=\"#m823865b11d\" y=\"109.470126\"/>\r\n     <use style=\"fill:#1f77b4;stroke:#1f77b4;\" x=\"258.591051\" xlink:href=\"#m823865b11d\" y=\"104.040094\"/>\r\n     <use style=\"fill:#1f77b4;stroke:#1f77b4;\" x=\"260.192965\" xlink:href=\"#m823865b11d\" y=\"115.285334\"/>\r\n     <use style=\"fill:#1f77b4;stroke:#1f77b4;\" x=\"261.794879\" xlink:href=\"#m823865b11d\" y=\"114.313155\"/>\r\n     <use style=\"fill:#1f77b4;stroke:#1f77b4;\" x=\"263.396793\" xlink:href=\"#m823865b11d\" y=\"116.483289\"/>\r\n     <use style=\"fill:#1f77b4;stroke:#1f77b4;\" x=\"264.998707\" xlink:href=\"#m823865b11d\" y=\"108.271575\"/>\r\n     <use style=\"fill:#1f77b4;stroke:#1f77b4;\" x=\"266.600621\" xlink:href=\"#m823865b11d\" y=\"106.411398\"/>\r\n     <use style=\"fill:#1f77b4;stroke:#1f77b4;\" x=\"268.202534\" xlink:href=\"#m823865b11d\" y=\"128.309868\"/>\r\n     <use style=\"fill:#1f77b4;stroke:#1f77b4;\" x=\"269.804448\" xlink:href=\"#m823865b11d\" y=\"108.599663\"/>\r\n     <use style=\"fill:#1f77b4;stroke:#1f77b4;\" x=\"271.406362\" xlink:href=\"#m823865b11d\" y=\"86.751546\"/>\r\n     <use style=\"fill:#1f77b4;stroke:#1f77b4;\" x=\"273.008276\" xlink:href=\"#m823865b11d\" y=\"131.295588\"/>\r\n     <use style=\"fill:#1f77b4;stroke:#1f77b4;\" x=\"274.61019\" xlink:href=\"#m823865b11d\" y=\"100.140963\"/>\r\n     <use style=\"fill:#1f77b4;stroke:#1f77b4;\" x=\"276.212104\" xlink:href=\"#m823865b11d\" y=\"112.933024\"/>\r\n     <use style=\"fill:#1f77b4;stroke:#1f77b4;\" x=\"277.814018\" xlink:href=\"#m823865b11d\" y=\"94.131815\"/>\r\n     <use style=\"fill:#1f77b4;stroke:#1f77b4;\" x=\"279.415932\" xlink:href=\"#m823865b11d\" y=\"108.702407\"/>\r\n     <use style=\"fill:#1f77b4;stroke:#1f77b4;\" x=\"281.017845\" xlink:href=\"#m823865b11d\" y=\"50.798316\"/>\r\n     <use style=\"fill:#1f77b4;stroke:#1f77b4;\" x=\"282.619759\" xlink:href=\"#m823865b11d\" y=\"105.616077\"/>\r\n     <use style=\"fill:#1f77b4;stroke:#1f77b4;\" x=\"284.221673\" xlink:href=\"#m823865b11d\" y=\"122.516668\"/>\r\n     <use style=\"fill:#1f77b4;stroke:#1f77b4;\" x=\"285.823587\" xlink:href=\"#m823865b11d\" y=\"84.894391\"/>\r\n     <use style=\"fill:#1f77b4;stroke:#1f77b4;\" x=\"287.425501\" xlink:href=\"#m823865b11d\" y=\"110.006128\"/>\r\n     <use style=\"fill:#1f77b4;stroke:#1f77b4;\" x=\"289.027415\" xlink:href=\"#m823865b11d\" y=\"100.65149\"/>\r\n     <use style=\"fill:#1f77b4;stroke:#1f77b4;\" x=\"290.629329\" xlink:href=\"#m823865b11d\" y=\"92.503183\"/>\r\n     <use style=\"fill:#1f77b4;stroke:#1f77b4;\" x=\"292.231243\" xlink:href=\"#m823865b11d\" y=\"49.019479\"/>\r\n     <use style=\"fill:#1f77b4;stroke:#1f77b4;\" x=\"293.833156\" xlink:href=\"#m823865b11d\" y=\"75.694956\"/>\r\n     <use style=\"fill:#1f77b4;stroke:#1f77b4;\" x=\"295.43507\" xlink:href=\"#m823865b11d\" y=\"111.372984\"/>\r\n     <use style=\"fill:#1f77b4;stroke:#1f77b4;\" x=\"297.036984\" xlink:href=\"#m823865b11d\" y=\"121.294854\"/>\r\n     <use style=\"fill:#1f77b4;stroke:#1f77b4;\" x=\"298.638898\" xlink:href=\"#m823865b11d\" y=\"93.375185\"/>\r\n     <use style=\"fill:#1f77b4;stroke:#1f77b4;\" x=\"300.240812\" xlink:href=\"#m823865b11d\" y=\"115.834883\"/>\r\n     <use style=\"fill:#1f77b4;stroke:#1f77b4;\" x=\"301.842726\" xlink:href=\"#m823865b11d\" y=\"107.718141\"/>\r\n     <use style=\"fill:#1f77b4;stroke:#1f77b4;\" x=\"303.44464\" xlink:href=\"#m823865b11d\" y=\"94.81044\"/>\r\n     <use style=\"fill:#1f77b4;stroke:#1f77b4;\" x=\"305.046554\" xlink:href=\"#m823865b11d\" y=\"72.737841\"/>\r\n     <use style=\"fill:#1f77b4;stroke:#1f77b4;\" x=\"306.648467\" xlink:href=\"#m823865b11d\" y=\"111.597574\"/>\r\n     <use style=\"fill:#1f77b4;stroke:#1f77b4;\" x=\"308.250381\" xlink:href=\"#m823865b11d\" y=\"152.483686\"/>\r\n     <use style=\"fill:#1f77b4;stroke:#1f77b4;\" x=\"309.852295\" xlink:href=\"#m823865b11d\" y=\"134.496344\"/>\r\n     <use style=\"fill:#1f77b4;stroke:#1f77b4;\" x=\"311.454209\" xlink:href=\"#m823865b11d\" y=\"106.627102\"/>\r\n     <use style=\"fill:#1f77b4;stroke:#1f77b4;\" x=\"313.056123\" xlink:href=\"#m823865b11d\" y=\"110.566037\"/>\r\n     <use style=\"fill:#1f77b4;stroke:#1f77b4;\" x=\"314.658037\" xlink:href=\"#m823865b11d\" y=\"124.515419\"/>\r\n     <use style=\"fill:#1f77b4;stroke:#1f77b4;\" x=\"316.259951\" xlink:href=\"#m823865b11d\" y=\"94.139395\"/>\r\n     <use style=\"fill:#1f77b4;stroke:#1f77b4;\" x=\"317.861865\" xlink:href=\"#m823865b11d\" y=\"94.985277\"/>\r\n     <use style=\"fill:#1f77b4;stroke:#1f77b4;\" x=\"319.463778\" xlink:href=\"#m823865b11d\" y=\"103.405501\"/>\r\n     <use style=\"fill:#1f77b4;stroke:#1f77b4;\" x=\"321.065692\" xlink:href=\"#m823865b11d\" y=\"75.883176\"/>\r\n     <use style=\"fill:#1f77b4;stroke:#1f77b4;\" x=\"322.667606\" xlink:href=\"#m823865b11d\" y=\"96.048975\"/>\r\n     <use style=\"fill:#1f77b4;stroke:#1f77b4;\" x=\"324.26952\" xlink:href=\"#m823865b11d\" y=\"126.382002\"/>\r\n     <use style=\"fill:#1f77b4;stroke:#1f77b4;\" x=\"325.871434\" xlink:href=\"#m823865b11d\" y=\"114.522528\"/>\r\n     <use style=\"fill:#1f77b4;stroke:#1f77b4;\" x=\"327.473348\" xlink:href=\"#m823865b11d\" y=\"108.603908\"/>\r\n     <use style=\"fill:#1f77b4;stroke:#1f77b4;\" x=\"329.075262\" xlink:href=\"#m823865b11d\" y=\"98.899462\"/>\r\n     <use style=\"fill:#1f77b4;stroke:#1f77b4;\" x=\"330.677176\" xlink:href=\"#m823865b11d\" y=\"132.397379\"/>\r\n     <use style=\"fill:#1f77b4;stroke:#1f77b4;\" x=\"332.279089\" xlink:href=\"#m823865b11d\" y=\"108.67182\"/>\r\n     <use style=\"fill:#1f77b4;stroke:#1f77b4;\" x=\"333.881003\" xlink:href=\"#m823865b11d\" y=\"92.636421\"/>\r\n     <use style=\"fill:#1f77b4;stroke:#1f77b4;\" x=\"335.482917\" xlink:href=\"#m823865b11d\" y=\"110.057068\"/>\r\n     <use style=\"fill:#1f77b4;stroke:#1f77b4;\" x=\"337.084831\" xlink:href=\"#m823865b11d\" y=\"103.320889\"/>\r\n     <use style=\"fill:#1f77b4;stroke:#1f77b4;\" x=\"338.686745\" xlink:href=\"#m823865b11d\" y=\"97.274784\"/>\r\n     <use style=\"fill:#1f77b4;stroke:#1f77b4;\" x=\"340.288659\" xlink:href=\"#m823865b11d\" y=\"135.219632\"/>\r\n     <use style=\"fill:#1f77b4;stroke:#1f77b4;\" x=\"341.890573\" xlink:href=\"#m823865b11d\" y=\"112.782363\"/>\r\n     <use style=\"fill:#1f77b4;stroke:#1f77b4;\" x=\"343.492487\" xlink:href=\"#m823865b11d\" y=\"96.973236\"/>\r\n     <use style=\"fill:#1f77b4;stroke:#1f77b4;\" x=\"345.0944\" xlink:href=\"#m823865b11d\" y=\"109.850627\"/>\r\n     <use style=\"fill:#1f77b4;stroke:#1f77b4;\" x=\"346.696314\" xlink:href=\"#m823865b11d\" y=\"105.704424\"/>\r\n     <use style=\"fill:#1f77b4;stroke:#1f77b4;\" x=\"348.298228\" xlink:href=\"#m823865b11d\" y=\"83.564768\"/>\r\n     <use style=\"fill:#1f77b4;stroke:#1f77b4;\" x=\"349.900142\" xlink:href=\"#m823865b11d\" y=\"107.548053\"/>\r\n     <use style=\"fill:#1f77b4;stroke:#1f77b4;\" x=\"351.502056\" xlink:href=\"#m823865b11d\" y=\"123.435483\"/>\r\n     <use style=\"fill:#1f77b4;stroke:#1f77b4;\" x=\"353.10397\" xlink:href=\"#m823865b11d\" y=\"107.787644\"/>\r\n     <use style=\"fill:#1f77b4;stroke:#1f77b4;\" x=\"354.705884\" xlink:href=\"#m823865b11d\" y=\"86.649234\"/>\r\n     <use style=\"fill:#1f77b4;stroke:#1f77b4;\" x=\"356.307798\" xlink:href=\"#m823865b11d\" y=\"91.046443\"/>\r\n     <use style=\"fill:#1f77b4;stroke:#1f77b4;\" x=\"357.909711\" xlink:href=\"#m823865b11d\" y=\"98.909184\"/>\r\n     <use style=\"fill:#1f77b4;stroke:#1f77b4;\" x=\"359.511625\" xlink:href=\"#m823865b11d\" y=\"111.342658\"/>\r\n     <use style=\"fill:#1f77b4;stroke:#1f77b4;\" x=\"361.113539\" xlink:href=\"#m823865b11d\" y=\"94.296723\"/>\r\n     <use style=\"fill:#1f77b4;stroke:#1f77b4;\" x=\"362.715453\" xlink:href=\"#m823865b11d\" y=\"96.335004\"/>\r\n     <use style=\"fill:#1f77b4;stroke:#1f77b4;\" x=\"364.317367\" xlink:href=\"#m823865b11d\" y=\"72.371366\"/>\r\n     <use style=\"fill:#1f77b4;stroke:#1f77b4;\" x=\"365.919281\" xlink:href=\"#m823865b11d\" y=\"103.292037\"/>\r\n     <use style=\"fill:#1f77b4;stroke:#1f77b4;\" x=\"367.521195\" xlink:href=\"#m823865b11d\" y=\"114.934158\"/>\r\n     <use style=\"fill:#1f77b4;stroke:#1f77b4;\" x=\"369.123109\" xlink:href=\"#m823865b11d\" y=\"67.934156\"/>\r\n     <use style=\"fill:#1f77b4;stroke:#1f77b4;\" x=\"370.725022\" xlink:href=\"#m823865b11d\" y=\"144.819447\"/>\r\n     <use style=\"fill:#1f77b4;stroke:#1f77b4;\" x=\"372.326936\" xlink:href=\"#m823865b11d\" y=\"138.627118\"/>\r\n     <use style=\"fill:#1f77b4;stroke:#1f77b4;\" x=\"373.92885\" xlink:href=\"#m823865b11d\" y=\"89.613723\"/>\r\n     <use style=\"fill:#1f77b4;stroke:#1f77b4;\" x=\"375.530764\" xlink:href=\"#m823865b11d\" y=\"101.711096\"/>\r\n     <use style=\"fill:#1f77b4;stroke:#1f77b4;\" x=\"377.132678\" xlink:href=\"#m823865b11d\" y=\"98.797869\"/>\r\n     <use style=\"fill:#1f77b4;stroke:#1f77b4;\" x=\"378.734592\" xlink:href=\"#m823865b11d\" y=\"104.124994\"/>\r\n     <use style=\"fill:#1f77b4;stroke:#1f77b4;\" x=\"380.336506\" xlink:href=\"#m823865b11d\" y=\"104.237351\"/>\r\n    </g>\r\n   </g>\r\n   <g id=\"patch_3\">\r\n    <path d=\"M 60.754688 224.64 \r\nL 60.754688 7.2 \r\n\" style=\"fill:none;stroke:#000000;stroke-linecap:square;stroke-linejoin:miter;stroke-width:0.8;\"/>\r\n   </g>\r\n   <g id=\"patch_4\">\r\n    <path d=\"M 395.554688 224.64 \r\nL 395.554688 7.2 \r\n\" style=\"fill:none;stroke:#000000;stroke-linecap:square;stroke-linejoin:miter;stroke-width:0.8;\"/>\r\n   </g>\r\n   <g id=\"patch_5\">\r\n    <path d=\"M 60.754688 224.64 \r\nL 395.554688 224.64 \r\n\" style=\"fill:none;stroke:#000000;stroke-linecap:square;stroke-linejoin:miter;stroke-width:0.8;\"/>\r\n   </g>\r\n   <g id=\"patch_6\">\r\n    <path d=\"M 60.754688 7.2 \r\nL 395.554688 7.2 \r\n\" style=\"fill:none;stroke:#000000;stroke-linecap:square;stroke-linejoin:miter;stroke-width:0.8;\"/>\r\n   </g>\r\n  </g>\r\n </g>\r\n <defs>\r\n  <clipPath id=\"p3704ac7456\">\r\n   <rect height=\"217.44\" width=\"334.8\" x=\"60.754688\" y=\"7.2\"/>\r\n  </clipPath>\r\n </defs>\r\n</svg>\r\n",
      "image/png": "[encoded data removed]"
     },
     "metadata": {
      "needs_background": "light"
     }
    }
   ],
   "source": [
    "g = plt.plot(y_test - pred,marker='o',linestyle='')"
   ]
  },
  {
   "source": [
    "#### This is the result of wilcoxon signed-rank that shows the null hypothesis is not rejected.\n",
    "#### concluding that there is not a difference in SalePrice between Test data (y_test) and prediction (pred)."
   ],
   "cell_type": "markdown",
   "metadata": {}
  },
  {
   "cell_type": "code",
   "execution_count": 391,
   "metadata": {},
   "outputs": [
    {
     "output_type": "execute_result",
     "data": {
      "text/plain": [
       "(8726.0, 0.5634138269375655)"
      ]
     },
     "metadata": {},
     "execution_count": 391
    }
   ],
   "source": [
    "x = y_test - pred\n",
    "w, p = wilcoxon(x)\n",
    "w, p"
   ]
  }
 ]
}